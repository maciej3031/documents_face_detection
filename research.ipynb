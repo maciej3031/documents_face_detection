{
 "cells": [
  {
   "cell_type": "code",
   "execution_count": 1,
   "metadata": {
    "collapsed": true
   },
   "outputs": [],
   "source": [
    "import os\n",
    "import cv2\n",
    "from tqdm import tqdm\n",
    "import numpy as np\n",
    "from sklearn.preprocessing import normalize\n",
    "from sklearn.model_selection import train_test_split\n",
    "import matplotlib.pyplot as plt\n",
    "import random\n",
    "import pickle\n",
    "import math\n",
    "from scipy.misc import toimage\n",
    "random.seed()"
   ]
  },
  {
   "cell_type": "code",
   "execution_count": 2,
   "metadata": {
    "collapsed": true
   },
   "outputs": [],
   "source": [
    "def jj(*args):\n",
    "    return os.path.join(*args)\n",
    "\n",
    "FACES = jj('data','faces')\n",
    "OBJECTS = jj('data','objects')\n",
    "\n",
    "FACES_GREY = jj('data','faces_grey')\n",
    "OBJECTS_GREY = jj('data','objects_grey')\n",
    "\n",
    "FACES_GREY_EQ = jj('data','faces_grey_eq')\n",
    "OBJECTS_GREY_EQ = jj('data','objects_grey_eq')\n",
    "\n",
    "FACES_EDGES = jj('data','faces_edges')\n",
    "OBJECTS_EDGES = jj('data','objects_edges')\n",
    "\n",
    "IMG_SIZE = 100\n",
    "NUMBER_OF_FACES = 2000\n",
    "NUMBER_OF_OBJECTS = 2000"
   ]
  },
  {
   "cell_type": "code",
   "execution_count": 3,
   "metadata": {
    "collapsed": true
   },
   "outputs": [],
   "source": [
    "def jj(*args):\n",
    "    return os.path.join(*args)\n",
    "\n",
    "\n",
    "def open_image(full_image_name):\n",
    "    return cv2.imread(full_image_name, cv2.IMREAD_GRAYSCALE)  # grey scale\n",
    "\n",
    "\n",
    "def resize(img, n):\n",
    "    return cv2.resize(img, (n, n))\n",
    "\n",
    "\n",
    "def resize_image_to_nxn_square(img, n):\n",
    "    longer_side = max(img.shape)\n",
    "    horizontal_padding = int((longer_side - img.shape[0]) / 2)\n",
    "    vertical_padding = int((longer_side - img.shape[1]) / 2)\n",
    "\n",
    "    new_image = cv2.copyMakeBorder(img,\n",
    "                                   horizontal_padding,\n",
    "                                   horizontal_padding,\n",
    "                                   vertical_padding,\n",
    "                                   vertical_padding,\n",
    "                                   cv2.BORDER_CONSTANT)\n",
    "    resized_img = resize(new_image, n)\n",
    "    return resized_img\n",
    "\n",
    "\n",
    "def reshape_to_on_dim_vector(array):\n",
    "    return np.reshape(np.reshape(array, (IMG_SIZE * IMG_SIZE)), (1, -1))"
   ]
  },
  {
   "cell_type": "code",
   "execution_count": 4,
   "metadata": {
    "collapsed": true
   },
   "outputs": [],
   "source": [
    "class Canny(object):\n",
    "    def __init__(self, img, minVal, maxVal):\n",
    "        self.minVal = minVal\n",
    "        self.maxVal = maxVal\n",
    "        self.gaussian_filter = np.asarray([[1, 4, 7, 4, 1],\n",
    "                                           [4, 16, 26, 16, 4],\n",
    "                                           [7, 26, 41, 26, 7],\n",
    "                                           [4, 16, 26, 16, 4],\n",
    "                                           [1, 4, 7, 4, 1]]) / 273\n",
    "\n",
    "        self.sobel_Gx_filter = np.asarray([[-1, 0, 1],\n",
    "                                           [-2, 0, 2],\n",
    "                                           [-1, 0, 1]])\n",
    "\n",
    "        self.sobel_Gy_filter = np.asarray([[-1, -2, -1],\n",
    "                                           [0, 0, 0],\n",
    "                                           [1, 2, 1]])\n",
    "\n",
    "        self.array = np.asarray(img)\n",
    "        self.height, self.width = self.array.shape[0], self.array.shape[1]\n",
    "\n",
    "        self.array_after_gaussian_filtering = np.zeros(self.array.shape)\n",
    "        self.array_after_Gx = np.zeros(self.array.shape)\n",
    "        self.array_after_Gy = np.zeros(self.array.shape)\n",
    "        self.array_G = np.zeros(self.array.shape)\n",
    "        self.array_theta = np.zeros(self.array.shape)\n",
    "        self.array_nmax_suppress = np.zeros(self.array.shape)\n",
    "        self.array_after_thresholding = np.zeros(self.array.shape)\n",
    "\n",
    "        self.run()\n",
    "\n",
    "    def run(self):\n",
    "        self.set_gaussian_filtered_array()\n",
    "        self.set_array_after_Gx()\n",
    "        self.set_array_after_Gy()\n",
    "        self.set_array_after_G()\n",
    "        self.set_array_after_theta()\n",
    "        self.set_array_after_suppression()\n",
    "        self.set_array_after_thresholding()\n",
    "\n",
    "    def get_features(self):\n",
    "        plt.imshow(self.array_after_thresholding)\n",
    "        plt.show()\n",
    "        return self.array_after_thresholding\n",
    "\n",
    "    def set_gaussian_filtered_array(self):\n",
    "        zero_padded_array = np.pad(self.array, 2, mode='constant')\n",
    "        self.convolve(zero_padded_array, self.gaussian_filter, self.array_after_gaussian_filtering)\n",
    "\n",
    "    def set_array_after_Gx(self):\n",
    "        zero_padded_array = np.pad(self.array_after_gaussian_filtering, 1, mode='constant')\n",
    "        self.convolve(zero_padded_array, self.sobel_Gx_filter, self.array_after_Gx)\n",
    "\n",
    "    def set_array_after_Gy(self):\n",
    "        zero_padded_array = np.pad(self.array_after_gaussian_filtering, 1, mode='constant')\n",
    "        self.convolve(zero_padded_array, self.sobel_Gy_filter, self.array_after_Gy)\n",
    "\n",
    "    def set_array_after_G(self):\n",
    "        self.array_G = np.sqrt(np.square(self.array_after_Gx) + np.square(self.array_after_Gy))\n",
    "\n",
    "    def set_array_after_theta(self):\n",
    "        self.array_theta = np.arctan2(self.array_after_Gy, self.array_after_Gx) * 180 / math.pi\n",
    "\n",
    "    def set_array_after_suppression(self):\n",
    "        for row in range(self.height):\n",
    "            for col in range(self.width):\n",
    "                if self.width - 1 > col > 0 and self.height - 1 > row > 0:\n",
    "                    # 0 degrees\n",
    "                    if (22.5 > self.array_theta[row][col] >= -22.5) or (self.array_theta[row][col] < -157.5 or self.array_theta[row][col] >= 157.5):\n",
    "                        if self.array_G[row][col] >= self.array_G[row][col + 1] and self.array_G[row][col] >= self.array_G[row][col - 1]:\n",
    "                            self.array_nmax_suppress[row][col] = self.array_G[row][col]\n",
    "\n",
    "                    # 45 degrees\n",
    "                    if (67.5 > self.array_theta[row][col] >= 22.5) or (-112.5 > self.array_theta[row][col] >= -157.5):\n",
    "                        if self.array_G[row][col] >= self.array_G[row - 1][col - 1] and self.array_G[row][col] >= self.array_G[row + 1][col + 1]:\n",
    "                            self.array_nmax_suppress[row][col] = self.array_G[row][col]\n",
    "\n",
    "                    # 90 degrees\n",
    "                    if (112.5 > self.array_theta[row][col] >= 67.5) or (-67.5 > self.array_theta[row][col] >= -112.5):\n",
    "                        if self.array_G[row][col] >= self.array_G[row - 1][col] and self.array_G[row][col] >= self.array_G[row + 1][col]:\n",
    "                            self.array_nmax_suppress[row][col] = self.array_G[row][col]\n",
    "\n",
    "                    # 135 degrees\n",
    "                    if (157.5 > self.array_theta[row][col] >= 112.5) or (-22.5 > self.array_theta[row][col] >= -67.5):\n",
    "                        if self.array_G[row][col] >= self.array_G[row - 1][col + 1] and self.array_G[row][col] >= self.array_G[row + 1][col - 1]:\n",
    "                            self.array_nmax_suppress[row][col] = self.array_G[row][col]\n",
    "\n",
    "    def set_array_after_thresholding(self):\n",
    "        self._set_strong_edges()\n",
    "        self._set_weak_edges()\n",
    "\n",
    "    def _set_strong_edges(self):\n",
    "        for row in range(self.height):\n",
    "            for col in range(self.width):\n",
    "                if self.width - 1 > col > 0 and self.height - 1 > row > 0:\n",
    "                    if self.array_nmax_suppress[row][col] > self.maxVal:\n",
    "                        self.array_after_thresholding[row][col] = 1\n",
    "\n",
    "    def _set_weak_edges(self):\n",
    "        for row in range(self.height):\n",
    "            for col in range(self.width):\n",
    "                if self.width - 1 > col > 0 and self.height - 1 > row > 0:\n",
    "                    if self.maxVal > self.array_nmax_suppress[row][col] > self.minVal and self._is_connected_with_strong_edge(row, col):\n",
    "                        self.array_after_thresholding[row][col] = 1\n",
    "\n",
    "    def _is_connected_with_strong_edge(self, row, col):\n",
    "        deltas = [(1, 0), (0, 1), (1, 1), (-1, 0), (0, -1), (-1, -1), (-1, 1), (1, -1)]\n",
    "        for i, j in deltas:\n",
    "            if self.array_after_thresholding[row + i][col + j] == 1:\n",
    "                self.array_after_thresholding[row][col] = 1\n",
    "\n",
    "    def convolve(self, array, filter_array, result_array):\n",
    "        offset = filter_array.shape[0] // 2\n",
    "        for row in range(self.height):\n",
    "            for col in range(self.width):\n",
    "                if (self.height - 2 * offset >= row >= offset) and (self.width - 2 * offset >= col >= offset):\n",
    "                    new_value = 0\n",
    "                    for f_row in range(filter_array.shape[0]):\n",
    "                        for f_col in range(filter_array.shape[1]):\n",
    "                            new_value += array[row - offset + f_row][col - offset + f_col] * filter_array[f_row][f_col]\n",
    "                    result_array[row - offset, col - offset] = new_value"
   ]
  },
  {
   "cell_type": "code",
   "execution_count": 5,
   "metadata": {
    "collapsed": true
   },
   "outputs": [],
   "source": [
    "def open_image(full_image_name):\n",
    "    return cv2.imread(full_image_name, cv2.IMREAD_GRAYSCALE) #grey scale\n",
    "\n",
    "def resize(img, n):\n",
    "    return cv2.resize(img, (n, n))\n",
    "\n",
    "def convert_to_array(img):\n",
    "    return np.array(img, ndmin=3)\n",
    "\n",
    "def resize_image_to_nxn_square(img, n):\n",
    "    longer_side = max(img.shape)\n",
    "    horizontal_padding = int((longer_side - img.shape[0]) / 2)\n",
    "    vertical_padding = int((longer_side - img.shape[1]) / 2)\n",
    "    \n",
    "    new_image = cv2.copyMakeBorder(img,\n",
    "                                   horizontal_padding,\n",
    "                                   horizontal_padding,\n",
    "                                   vertical_padding,\n",
    "                                   vertical_padding,\n",
    "                                   cv2.BORDER_CONSTANT)    \n",
    "    resized_img = resize(new_image, n)\n",
    "    return resized_img\n",
    "\n",
    "def get_dataset():\n",
    "    faces_list = []\n",
    "    for img_name in tqdm(os.listdir(FACES)):\n",
    "        path = jj(FACES, img_name)\n",
    "        img = open_image(path)\n",
    "        img = resize_image_to_nxn_square(img, IMG_SIZE)\n",
    "#         cv2.imwrite(jj(FACES_GREY, img_name), img)\n",
    "        \n",
    "#         img = cv2.equalizeHist(img)\n",
    "#         cv2.imwrite(jj(FACES_GREY_EQ, img_name), img)\n",
    "        \n",
    "        img = cv2.Canny(img, 120, 220) # Canny edge detection\n",
    "#         cv2.imwrite(jj(FACES_EDGES, img_name), img)\n",
    "        \n",
    "        array = convert_to_array(img)\n",
    "        faces_list.append(img)\n",
    "\n",
    "    objects_list = []    \n",
    "    for img_name in tqdm(os.listdir(OBJECTS)):\n",
    "        path = jj(OBJECTS, img_name)\n",
    "        img = open_image(path)\n",
    "        img = resize_image_to_nxn_square(img, IMG_SIZE)\n",
    "#         cv2.imwrite(jj(OBJECTS_GREY, img_name), img)\n",
    "        \n",
    "#         img = cv2.equalizeHist(img)\n",
    "#         cv2.imwrite(jj(OBJECTS_GREY_EQ, img_name), img)\n",
    "        \n",
    "        img = cv2.Canny(img, 120, 220) # Canny edge detection\n",
    "#         cv2.imwrite(jj(OBJECTS_EDGES, img_name), img)\n",
    "        \n",
    "        array = convert_to_array(img)\n",
    "        objects_list.append(img)        \n",
    "\n",
    "    random.shuffle(faces_list)\n",
    "    random.shuffle(objects_list)\n",
    "    \n",
    "    faces_list = faces_list[:NUMBER_OF_FACES]\n",
    "    objects_list = objects_list[:NUMBER_OF_OBJECTS]\n",
    "        \n",
    "    return faces_list + objects_list\n",
    "\n",
    "\n",
    "def reshape_to_on_dim_vector(array):\n",
    "    return np.reshape(array, (array.shape[0], IMG_SIZE * IMG_SIZE))"
   ]
  },
  {
   "cell_type": "code",
   "execution_count": 6,
   "metadata": {},
   "outputs": [
    {
     "name": "stderr",
     "output_type": "stream",
     "text": [
      "100%|███████████████████████████████████| 13233/13233 [00:26<00:00, 502.49it/s]\n",
      "100%|███████████████████████████████████| 16651/16651 [00:30<00:00, 545.95it/s]\n"
     ]
    },
    {
     "name": "stdout",
     "output_type": "stream",
     "text": [
      "4000\n",
      "(100, 100)\n"
     ]
    }
   ],
   "source": [
    "dataset = get_dataset()\n",
    "print(len(dataset))\n",
    "print(dataset[0].shape)"
   ]
  },
  {
   "cell_type": "code",
   "execution_count": 7,
   "metadata": {},
   "outputs": [
    {
     "data": {
      "text/plain": [
       "<matplotlib.figure.Figure at 0x1ac5f4ad5c0>"
      ]
     },
     "metadata": {},
     "output_type": "display_data"
    },
    {
     "data": {
      "image/png": "[encoded data removed]",
      "text/plain": [
       "<matplotlib.figure.Figure at 0x1ac5f4addd8>"
      ]
     },
     "metadata": {},
     "output_type": "display_data"
    }
   ],
   "source": [
    "plt.clf()\n",
    "plt.subplots(figsize=(8, 8))\n",
    "for i in range(1, 10):\n",
    "    random_number = random.choice(range(1, len(dataset)))\n",
    "    plt.subplot(3,3,i)\n",
    "    plt.imshow(dataset[random_number])\n",
    "plt.show()"
   ]
  },
  {
   "cell_type": "code",
   "execution_count": 8,
   "metadata": {
    "collapsed": true
   },
   "outputs": [],
   "source": [
    "labeled_dataset = [(array, 1 if num < NUMBER_OF_FACES else 0) for num, array in enumerate(dataset)]\n",
    "random.shuffle(labeled_dataset)"
   ]
  },
  {
   "cell_type": "code",
   "execution_count": 9,
   "metadata": {
    "collapsed": true
   },
   "outputs": [],
   "source": [
    "train_validation, test = train_test_split(labeled_dataset, test_size = 0.2, random_state = 0)\n",
    "train, validation = train_test_split(train_validation, test_size = 0.25, random_state = 0)\n",
    "\n",
    "x_train = np.asarray([i[0] for i in train])/255\n",
    "y_train = np.asarray([i[1] for i in train])\n",
    "\n",
    "x_validation = np.asarray([i[0] for i in validation])/255\n",
    "y_validation = np.asarray([i[1] for i in validation])"
   ]
  },
  {
   "cell_type": "code",
   "execution_count": 10,
   "metadata": {},
   "outputs": [
    {
     "data": {
      "text/plain": [
       "(2400, 100, 100)"
      ]
     },
     "execution_count": 10,
     "metadata": {},
     "output_type": "execute_result"
    }
   ],
   "source": [
    "x_train.shape"
   ]
  },
  {
   "cell_type": "code",
   "execution_count": 11,
   "metadata": {
    "collapsed": true
   },
   "outputs": [],
   "source": [
    "x_train = reshape_to_on_dim_vector(x_train)\n",
    "x_validation = reshape_to_on_dim_vector(x_validation)\n"
   ]
  },
  {
   "cell_type": "markdown",
   "metadata": {},
   "source": [
    "## MODEL EVALUATION"
   ]
  },
  {
   "cell_type": "code",
   "execution_count": 12,
   "metadata": {
    "scrolled": true
   },
   "outputs": [
    {
     "data": {
      "text/plain": [
       "SVC(C=1000000, cache_size=200, class_weight=None, coef0=0.0,\n",
       "  decision_function_shape=None, degree=3, gamma=1e-06, kernel='rbf',\n",
       "  max_iter=-1, probability=False, random_state=None, shrinking=True,\n",
       "  tol=0.001, verbose=False)"
      ]
     },
     "execution_count": 12,
     "metadata": {},
     "output_type": "execute_result"
    }
   ],
   "source": [
    "from sklearn import svm\n",
    "from sklearn.linear_model import LogisticRegression\n",
    "from sklearn.metrics import accuracy_score\n",
    "\n",
    "SVM_model = svm.SVC(C=1000000, gamma=0.000001)\n",
    "SVM_model.fit(x_train, y_train) "
   ]
  },
  {
   "cell_type": "code",
   "execution_count": 13,
   "metadata": {
    "collapsed": true
   },
   "outputs": [],
   "source": [
    "pickle.dump(SVM_model, open(jj(\"data\", \"svm_model.model\"), \"wb\" ))"
   ]
  },
  {
   "cell_type": "code",
   "execution_count": 14,
   "metadata": {},
   "outputs": [
    {
     "data": {
      "text/plain": [
       "1.0"
      ]
     },
     "execution_count": 14,
     "metadata": {},
     "output_type": "execute_result"
    }
   ],
   "source": [
    "# Skuteczność na zbiorze treningowym\n",
    "y_pred = SVM_model.predict(x_train)\n",
    "accuracy_score(y_train, y_pred)"
   ]
  },
  {
   "cell_type": "code",
   "execution_count": 17,
   "metadata": {},
   "outputs": [
    {
     "data": {
      "text/plain": [
       "0.96750000000000003"
      ]
     },
     "execution_count": 17,
     "metadata": {},
     "output_type": "execute_result"
    }
   ],
   "source": [
    "# Skuteczność na zbiorze testowym\n",
    "y_pred = SVM_model.predict(x_validation)\n",
    "accuracy_score(y_validation, y_pred)"
   ]
  },
  {
   "cell_type": "code",
   "execution_count": 18,
   "metadata": {
    "scrolled": true
   },
   "outputs": [
    {
     "data": {
      "text/plain": [
       "LogisticRegression(C=1.0, class_weight=None, dual=False, fit_intercept=True,\n",
       "          intercept_scaling=1, max_iter=100, multi_class='ovr', n_jobs=1,\n",
       "          penalty='l2', random_state=None, solver='liblinear', tol=0.0001,\n",
       "          verbose=0, warm_start=False)"
      ]
     },
     "execution_count": 18,
     "metadata": {},
     "output_type": "execute_result"
    }
   ],
   "source": [
    "model = LogisticRegression()\n",
    "model.fit(x_train, y_train)"
   ]
  },
  {
   "cell_type": "code",
   "execution_count": 19,
   "metadata": {},
   "outputs": [
    {
     "data": {
      "text/plain": [
       "1.0"
      ]
     },
     "execution_count": 19,
     "metadata": {},
     "output_type": "execute_result"
    }
   ],
   "source": [
    "# Skuteczność na zbiorze treningowym\n",
    "y_pred = model.predict(x_train)\n",
    "accuracy_score(y_train, y_pred)"
   ]
  },
  {
   "cell_type": "code",
   "execution_count": 20,
   "metadata": {},
   "outputs": [
    {
     "data": {
      "text/plain": [
       "0.94874999999999998"
      ]
     },
     "execution_count": 20,
     "metadata": {},
     "output_type": "execute_result"
    }
   ],
   "source": [
    "# Skuteczność na zbiorze testowym\n",
    "y_pred = model.predict(x_validation)\n",
    "accuracy_score(y_validation, y_pred)"
   ]
  },
  {
   "cell_type": "code",
   "execution_count": 21,
   "metadata": {
    "collapsed": true
   },
   "outputs": [],
   "source": [
    "pickle.dump(model, open(jj(\"data\", \"lr_model.model\"), \"wb\" ))"
   ]
  }
 ],
 "metadata": {
  "kernelspec": {
   "display_name": "Python 3",
   "language": "python",
   "name": "python3"
  },
  "language_info": {
   "codemirror_mode": {
    "name": "ipython",
    "version": 3
   },
   "file_extension": ".py",
   "mimetype": "text/x-python",
   "name": "python",
   "nbconvert_exporter": "python",
   "pygments_lexer": "ipython3",
   "version": "3.6.1"
  }
 },
 "nbformat": 4,
 "nbformat_minor": 2
}
