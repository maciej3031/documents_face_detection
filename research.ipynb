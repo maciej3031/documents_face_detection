{
 "cells": [
  {
   "cell_type": "code",
   "execution_count": 1,
   "metadata": {
    "collapsed": true
   },
   "outputs": [],
   "source": [
    "import os\n",
    "import cv2\n",
    "from tqdm import tqdm\n",
    "import numpy as np\n",
    "from sklearn.preprocessing import normalize\n",
    "from sklearn.model_selection import train_test_split\n",
    "import matplotlib.pyplot as plt\n",
    "import random\n",
    "from scipy.misc import toimage\n",
    "random.seed()"
   ]
  },
  {
   "cell_type": "code",
   "execution_count": 2,
   "metadata": {
    "collapsed": true
   },
   "outputs": [],
   "source": [
    "def jj(*args):\n",
    "    return os.path.join(*args)\n",
    "\n",
    "FACES = jj('data','faces')\n",
    "OBJECTS = jj('data','objects')\n",
    "\n",
    "FACES_GREY = jj('data','faces_grey')\n",
    "OBJECTS_GREY = jj('data','objects_grey')\n",
    "\n",
    "FACES_GREY_EQ = jj('data','faces_grey_eq')\n",
    "OBJECTS_GREY_EQ = jj('data','objects_grey_eq')\n",
    "\n",
    "FACES_EDGES = jj('data','faces_edges')\n",
    "OBJECTS_EDGES = jj('data','objects_edges')\n",
    "\n",
    "IMG_SIZE = 100\n",
    "NUMBER_OF_FACES = 2000\n",
    "NUMBER_OF_OBJECTS = 2000"
   ]
  },
  {
   "cell_type": "code",
   "execution_count": 3,
   "metadata": {
    "collapsed": true
   },
   "outputs": [],
   "source": [
    "def open_image(full_image_name):\n",
    "    return cv2.imread(full_image_name, cv2.IMREAD_GRAYSCALE) #grey scale\n",
    "\n",
    "def resize(img, n):\n",
    "    return cv2.resize(img, (n, n))\n",
    "\n",
    "def convert_to_array(img):\n",
    "    return np.array(img, ndmin=3)\n",
    "\n",
    "def resize_image_to_nxn_square(img, n):\n",
    "    longer_side = max(img.shape)\n",
    "    horizontal_padding = int((longer_side - img.shape[0]) / 2)\n",
    "    vertical_padding = int((longer_side - img.shape[1]) / 2)\n",
    "    \n",
    "    new_image = cv2.copyMakeBorder(img,\n",
    "                                   horizontal_padding,\n",
    "                                   horizontal_padding,\n",
    "                                   vertical_padding,\n",
    "                                   vertical_padding,\n",
    "                                   cv2.BORDER_CONSTANT)    \n",
    "    resized_img = resize(new_image, n)\n",
    "    return resized_img\n",
    "\n",
    "def get_dataset():\n",
    "    faces_list = []\n",
    "    for img_name in tqdm(os.listdir(FACES)):\n",
    "        path = jj(FACES, img_name)\n",
    "        img = open_image(path)\n",
    "        img = resize_image_to_nxn_square(img, IMG_SIZE)\n",
    "#         cv2.imwrite(jj(FACES_GREY, img_name), img)\n",
    "        \n",
    "#         img = cv2.equalizeHist(img)\n",
    "#         cv2.imwrite(jj(FACES_GREY_EQ, img_name), img)\n",
    "        \n",
    "        img = cv2.Canny(img, 120, 220) # Canny edge detection\n",
    "#         cv2.imwrite(jj(FACES_EDGES, img_name), img)\n",
    "        \n",
    "        array = convert_to_array(img)\n",
    "        faces_list.append(img)\n",
    "\n",
    "    objects_list = []    \n",
    "    for img_name in tqdm(os.listdir(OBJECTS)):\n",
    "        path = jj(OBJECTS, img_name)\n",
    "        img = open_image(path)\n",
    "        img = resize_image_to_nxn_square(img, IMG_SIZE)\n",
    "#         cv2.imwrite(jj(OBJECTS_GREY, img_name), img)\n",
    "        \n",
    "#         img = cv2.equalizeHist(img)\n",
    "#         cv2.imwrite(jj(OBJECTS_GREY_EQ, img_name), img)\n",
    "        \n",
    "        img = cv2.Canny(img, 120, 220) # Canny edge detection\n",
    "#         cv2.imwrite(jj(OBJECTS_EDGES, img_name), img)\n",
    "        \n",
    "        array = convert_to_array(img)\n",
    "        objects_list.append(img)        \n",
    "\n",
    "    random.shuffle(faces_list)\n",
    "    random.shuffle(objects_list)\n",
    "    \n",
    "    faces_list = faces_list[:NUMBER_OF_FACES]\n",
    "    objects_list = objects_list[:NUMBER_OF_OBJECTS]\n",
    "        \n",
    "    return faces_list + objects_list"
   ]
  },
  {
   "cell_type": "code",
   "execution_count": 5,
   "metadata": {},
   "outputs": [
    {
     "name": "stderr",
     "output_type": "stream",
     "text": [
      "100%|██████████████████████████████████| 13233/13233 [00:09<00:00, 1331.03it/s]\n",
      "100%|██████████████████████████████████| 16651/16651 [00:13<00:00, 1244.33it/s]\n"
     ]
    },
    {
     "name": "stdout",
     "output_type": "stream",
     "text": [
      "4000\n",
      "(100, 100)\n"
     ]
    }
   ],
   "source": [
    "dataset = get_dataset()\n",
    "print(len(dataset))\n",
    "print(dataset[0].shape)"
   ]
  },
  {
   "cell_type": "code",
   "execution_count": 6,
   "metadata": {},
   "outputs": [
    {
     "data": {
      "text/plain": [
       "<matplotlib.figure.Figure at 0x1fbe62e9ac8>"
      ]
     },
     "metadata": {},
     "output_type": "display_data"
    },
    {
     "data": {
      "image/png": "[encoded data removed]",
      "text/plain": [
       "<matplotlib.figure.Figure at 0x1fbe62e9a90>"
      ]
     },
     "metadata": {},
     "output_type": "display_data"
    }
   ],
   "source": [
    "plt.clf()\n",
    "plt.subplots(figsize=(8, 8))\n",
    "for i in range(1, 10):\n",
    "    random_number = random.choice(range(1, len(dataset)))\n",
    "    plt.subplot(3,3,i)\n",
    "    plt.imshow(toimage(dataset[random_number]))\n",
    "plt.show()"
   ]
  },
  {
   "cell_type": "code",
   "execution_count": 7,
   "metadata": {},
   "outputs": [],
   "source": [
    "labeled_dataset = [(array, 1 if num < NUMBER_OF_FACES else 0) for num, array in enumerate(dataset)]\n",
    "random.shuffle(labeled_dataset)"
   ]
  },
  {
   "cell_type": "code",
   "execution_count": 8,
   "metadata": {
    "collapsed": true
   },
   "outputs": [],
   "source": [
    "train, validation = train_test_split(labeled_dataset, test_size = 0.25, random_state = 0)\n",
    "\n",
    "x_train = np.asarray([i[0] for i in train])/255\n",
    "y_train = np.asarray([i[1] for i in train])\n",
    "\n",
    "x_validation = np.asarray([i[0] for i in validation])/255\n",
    "y_validation = np.asarray([i[1] for i in validation])"
   ]
  },
  {
   "cell_type": "code",
   "execution_count": 9,
   "metadata": {},
   "outputs": [
    {
     "data": {
      "text/plain": [
       "(3000, 100, 100)"
      ]
     },
     "execution_count": 9,
     "metadata": {},
     "output_type": "execute_result"
    }
   ],
   "source": [
    "x_train.shape"
   ]
  },
  {
   "cell_type": "code",
   "execution_count": 10,
   "metadata": {},
   "outputs": [],
   "source": [
    "x_train = np.reshape(x_train, (x_train.shape[0],IMG_SIZE*IMG_SIZE))\n",
    "x_validation = np.reshape(x_validation, (x_validation.shape[0],IMG_SIZE*IMG_SIZE))\n"
   ]
  },
  {
   "cell_type": "markdown",
   "metadata": {},
   "source": [
    "## MODEL EVALUATION"
   ]
  },
  {
   "cell_type": "code",
   "execution_count": 11,
   "metadata": {},
   "outputs": [
    {
     "data": {
      "text/plain": [
       "SVC(C=1000000, cache_size=200, class_weight=None, coef0=0.0,\n",
       "  decision_function_shape=None, degree=3, gamma=1e-06, kernel='rbf',\n",
       "  max_iter=-1, probability=False, random_state=None, shrinking=True,\n",
       "  tol=0.001, verbose=False)"
      ]
     },
     "execution_count": 11,
     "metadata": {},
     "output_type": "execute_result"
    }
   ],
   "source": [
    "from sklearn import svm\n",
    "from sklearn.linear_model import LogisticRegression\n",
    "from sklearn.metrics import accuracy_score\n",
    "\n",
    "model = svm.SVC(C=1000000, gamma=0.000001)\n",
    "model.fit(x_train, y_train) "
   ]
  },
  {
   "cell_type": "code",
   "execution_count": 12,
   "metadata": {},
   "outputs": [
    {
     "data": {
      "text/plain": [
       "1.0"
      ]
     },
     "execution_count": 12,
     "metadata": {},
     "output_type": "execute_result"
    }
   ],
   "source": [
    "# Skuteczność na zbiorze treningowym\n",
    "y_pred = model.predict(x_train)\n",
    "accuracy_score(y_train, y_pred)"
   ]
  },
  {
   "cell_type": "code",
   "execution_count": 13,
   "metadata": {},
   "outputs": [
    {
     "data": {
      "text/plain": [
       "0.97599999999999998"
      ]
     },
     "execution_count": 13,
     "metadata": {},
     "output_type": "execute_result"
    }
   ],
   "source": [
    "# Skuteczność na zbiorze testowym\n",
    "y_pred = model.predict(x_validation)\n",
    "accuracy_score(y_validation, y_pred)"
   ]
  },
  {
   "cell_type": "code",
   "execution_count": 14,
   "metadata": {},
   "outputs": [
    {
     "data": {
      "text/plain": [
       "LogisticRegression(C=1.0, class_weight=None, dual=False, fit_intercept=True,\n",
       "          intercept_scaling=1, max_iter=100, multi_class='ovr', n_jobs=1,\n",
       "          penalty='l2', random_state=None, solver='liblinear', tol=0.0001,\n",
       "          verbose=0, warm_start=False)"
      ]
     },
     "execution_count": 14,
     "metadata": {},
     "output_type": "execute_result"
    }
   ],
   "source": [
    "model = LogisticRegression()\n",
    "model.fit(x_train, y_train)"
   ]
  },
  {
   "cell_type": "code",
   "execution_count": 15,
   "metadata": {},
   "outputs": [
    {
     "data": {
      "text/plain": [
       "1.0"
      ]
     },
     "execution_count": 15,
     "metadata": {},
     "output_type": "execute_result"
    }
   ],
   "source": [
    "# Skuteczność na zbiorze treningowym\n",
    "y_pred = model.predict(x_train)\n",
    "accuracy_score(y_train, y_pred)"
   ]
  },
  {
   "cell_type": "code",
   "execution_count": 18,
   "metadata": {},
   "outputs": [
    {
     "data": {
      "text/plain": [
       "0.97199999999999998"
      ]
     },
     "execution_count": 18,
     "metadata": {},
     "output_type": "execute_result"
    }
   ],
   "source": [
    "# Skuteczność na zbiorze testowym\n",
    "y_pred = model.predict(x_validation)\n",
    "accuracy_score(y_validation, y_pred)"
   ]
  }
 ],
 "metadata": {
  "kernelspec": {
   "display_name": "Python 3",
   "language": "python",
   "name": "python3"
  },
  "language_info": {
   "codemirror_mode": {
    "name": "ipython",
    "version": 3
   },
   "file_extension": ".py",
   "mimetype": "text/x-python",
   "name": "python",
   "nbconvert_exporter": "python",
   "pygments_lexer": "ipython3",
   "version": "3.6.1"
  }
 },
 "nbformat": 4,
 "nbformat_minor": 2
}
